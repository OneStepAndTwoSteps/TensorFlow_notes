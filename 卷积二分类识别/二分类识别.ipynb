{
 "cells": [
  {
   "cell_type": "code",
   "execution_count": 1,
   "metadata": {},
   "outputs": [
    {
     "name": "stderr",
     "output_type": "stream",
     "text": [
      "D:\\python\\lib\\site-packages\\h5py\\__init__.py:36: FutureWarning: Conversion of the second argument of issubdtype from `float` to `np.floating` is deprecated. In future, it will be treated as `np.float64 == np.dtype(float).type`.\n",
      "  from ._conv import register_converters as _register_converters\n"
     ]
    }
   ],
   "source": [
    "import tensorflow as tf\n",
    "import os\n",
    "import numpy as np\n",
    "import warnings"
   ]
  },
  {
   "cell_type": "code",
   "execution_count": 2,
   "metadata": {},
   "outputs": [],
   "source": [
    "warnings.filterwarnings('ignore')"
   ]
  },
  {
   "cell_type": "markdown",
   "metadata": {},
   "source": [
    "### Plastic_bag_label=0 Mineral_water_bottles_label=1"
   ]
  },
  {
   "cell_type": "code",
   "execution_count": 3,
   "metadata": {},
   "outputs": [],
   "source": [
    "def Get_Files(Plastic_bag_dir,Mineral_water_bottles_dir):\n",
    "    Plastic_bag=[]\n",
    "    Plastic_bag_label=[]\n",
    "    Mineral_water_bottles=[]\n",
    "    Mineral_water_bottles_label=[]\n",
    "    \n",
    "    for file in os.listdir(Plastic_bag_dir):\n",
    "        Plastic_bag.append(Plastic_bag_dir + file)\n",
    "        Plastic_bag_label.append(0)\n",
    "        \n",
    "    for file in os.listdir(Mineral_water_bottles_dir):\n",
    "        Mineral_water_bottles.append(Mineral_water_bottles_dir + file)\n",
    "        Mineral_water_bottles_label.append(1)\n",
    "        \n",
    "    image_list = np.hstack((Plastic_bag,Mineral_water_bottles))\n",
    "    label_list = np.hstack((Plastic_bag_label,Mineral_water_bottles_label))\n",
    "    temp = np.array([image_list,label_list])\n",
    "    temp = temp.transpose()\n",
    "    # 打乱顺序\n",
    "    np.random.shuffle(temp)\n",
    "\n",
    "    # 取出第一个元素作为 image 第二个元素作为 label\n",
    "    image_list = list(temp[:,0])\n",
    "    label_list = list(temp[:,1])\n",
    "    label_list = [int(i) for i in label_list]  \n",
    "    return image_list,label_list"
   ]
  },
  {
   "cell_type": "code",
   "execution_count": 4,
   "metadata": {},
   "outputs": [],
   "source": [
    "# image_W ,image_H 指定图片大小，batch_size 每批读取的个数 ，capacity队列中 最多容纳元素的个数\n",
    "def get_batch(image,label,image_W,image_H,batch_size,capacity):\n",
    "    # 转换数据为 ts 能识别的格式\n",
    "    image = tf.cast(image,tf.string)\n",
    "    label = tf.cast(label, tf.int32)\n",
    "\n",
    "    # 将image 和 label 放倒队列里 \n",
    "    input_queue = tf.train.slice_input_producer([image,label])\n",
    "    label = input_queue[1]\n",
    "    # 读取图片的全部信息\n",
    "    image_contents = tf.read_file(input_queue[0])\n",
    "    # 把图片解码，channels ＝3 为彩色图片, r，g ，b  黑白图片为 1 ，也可以理解为图片的厚度\n",
    "    image = tf.image.decode_jpeg(image_contents,channels =3)\n",
    "    # 将图片以图片中心进行裁剪或者扩充为 指定的image_W，image_H\n",
    "    image = tf.image.resize_images(image, [image_W, image_H],method=tf.image.ResizeMethod.NEAREST_NEIGHBOR)\n",
    "    # 对数据进行标准化,标准化，就是减去它的均值，除以他的方差\n",
    "    image = tf.image.per_image_standardization(image)\n",
    "\n",
    "    # 生成批次  num_threads 有多少个线程根据电脑配置设置  capacity 队列中 最多容纳图片的个数  tf.train.shuffle_batch 打乱顺序，\n",
    "    image_batch, label_batch = tf.train.batch([image, label],batch_size = batch_size, num_threads = 4, capacity = capacity)\n",
    "\n",
    "    # 重新定义下 label_batch 的形状\n",
    "    label_batch = tf.reshape(label_batch , [batch_size])\n",
    "    # 转化图片\n",
    "    image_batch = tf.cast(image_batch,tf.float32)\n",
    "    return  image_batch, label_batch"
   ]
  },
  {
   "cell_type": "code",
   "execution_count": 5,
   "metadata": {},
   "outputs": [],
   "source": [
    "Plastic_bag_dir='./Plastic_bag/'\n",
    "Mineral_water_bottles_dir='./Mineral_water_bottles/'\n",
    "\n",
    "image_W=208\n",
    "image_H=208\n",
    "BATCH_SIZE = 2\n",
    "CAPACITY = 256 \n",
    "\n",
    "N_CLASSES = 2  # 2个输出神经元，［1，0］ 或者 ［0，1］猫和狗的概率\n",
    "BATCH_SIZE = 8  # 每批数据的大小\n",
    "IMG_W = 208  # 重新定义图片的大小，图片如果过大则训练比较慢  \n",
    "IMG_H = 208  \n",
    "CAPACITY = 256  \n",
    "MAX_STEP = 100 # 训练的步数，应当 >= 10000\n",
    "learning_rate = 0.0001 # 学习率，建议刚开始的 learning_rate <= 0.0001"
   ]
  },
  {
   "cell_type": "code",
   "execution_count": 6,
   "metadata": {},
   "outputs": [
    {
     "name": "stdout",
     "output_type": "stream",
     "text": [
      "['./Plastic_bag/塑料袋63.jpg', './Plastic_bag/塑料袋72.jpg', './Mineral_water_bottles/矿泉水瓶1.jpeg', './Mineral_water_bottles/矿泉水瓶81.jpg', './Plastic_bag/塑料袋33.jpg', './Mineral_water_bottles/矿泉水瓶80.jpg', './Plastic_bag/塑料袋57.jpg', './Plastic_bag/塑料袋61.jpg', './Mineral_water_bottles/矿泉水瓶21.jpg', './Plastic_bag/塑料袋40.jpg', './Mineral_water_bottles/矿泉水瓶89.jpg', './Mineral_water_bottles/矿泉水瓶2.jpeg', './Mineral_water_bottles/矿泉水瓶30.jpg', './Mineral_water_bottles/矿泉水瓶19.jpeg', './Plastic_bag/塑料袋31.jpg', './Mineral_water_bottles/矿泉水瓶56.jpg', './Plastic_bag/塑料袋85.jpg', './Mineral_water_bottles/矿泉水瓶47.jpg', './Mineral_water_bottles/矿泉水瓶73.jpg', './Plastic_bag/塑料袋21.jpg', './Plastic_bag/塑料袋37.jpg', './Plastic_bag/塑料袋2.jpeg', './Plastic_bag/塑料袋47.jpg', './Mineral_water_bottles/矿泉水瓶95.jpg', './Plastic_bag/塑料袋12.jpeg', './Plastic_bag/塑料袋70.jpg', './Mineral_water_bottles/矿泉水瓶104.jpg', './Mineral_water_bottles/矿泉水瓶15.jpeg', './Plastic_bag/塑料袋48.jpg', './Mineral_water_bottles/矿泉水瓶105.jpg', './Plastic_bag/塑料袋50.jpg', './Mineral_water_bottles/矿泉水瓶37.jpg', './Mineral_water_bottles/矿泉水瓶28.jpg', './Mineral_water_bottles/矿泉水瓶77.jpg', './Mineral_water_bottles/矿泉水瓶63.jpg', './Mineral_water_bottles/矿泉水瓶16.jpeg', './Plastic_bag/塑料袋84.jpg', './Plastic_bag/塑料袋45.jpg', './Plastic_bag/塑料袋53.jpg', './Mineral_water_bottles/矿泉水瓶72.jpg', './Mineral_water_bottles/矿泉水瓶85.jpg', './Plastic_bag/塑料袋43.jpg', './Mineral_water_bottles/矿泉水瓶94.jpg', './Mineral_water_bottles/矿泉水瓶52.jpg', './Mineral_water_bottles/矿泉水瓶98.jpg', './Plastic_bag/塑料袋73.jpg', './Plastic_bag/塑料袋25.jpg', './Plastic_bag/塑料袋51.jpg', './Plastic_bag/塑料袋59.jpg', './Mineral_water_bottles/矿泉水瓶34.jpg', './Plastic_bag/塑料袋80.jpg', './Mineral_water_bottles/矿泉水瓶55.jpg', './Mineral_water_bottles/矿泉水瓶92.jpg', './Mineral_water_bottles/矿泉水瓶100.jpg', './Plastic_bag/塑料袋7.jpeg', './Mineral_water_bottles/矿泉水瓶64.jpg', './Mineral_water_bottles/矿泉水瓶84.jpg', './Mineral_water_bottles/矿泉水瓶58.jpg', './Plastic_bag/塑料袋75.jpg', './Mineral_water_bottles/矿泉水瓶40.jpg', './Plastic_bag/塑料袋23.jpg', './Mineral_water_bottles/矿泉水瓶0.jpeg', './Plastic_bag/塑料袋58.jpg', './Mineral_water_bottles/矿泉水瓶70.jpg', './Mineral_water_bottles/矿泉水瓶65.jpg', './Plastic_bag/塑料袋9.jpeg', './Mineral_water_bottles/矿泉水瓶10.jpeg', './Mineral_water_bottles/矿泉水瓶27.jpg', './Mineral_water_bottles/矿泉水瓶87.jpg', './Mineral_water_bottles/矿泉水瓶44.jpg', './Mineral_water_bottles/矿泉水瓶43.jpg', './Mineral_water_bottles/矿泉水瓶66.jpg', './Mineral_water_bottles/矿泉水瓶42.jpg', './Plastic_bag/塑料袋8.jpeg', './Mineral_water_bottles/矿泉水瓶35.jpg', './Plastic_bag/塑料袋60.jpg', './Plastic_bag/塑料袋38.jpg', './Mineral_water_bottles/矿泉水瓶33.jpg', './Mineral_water_bottles/矿泉水瓶79.jpg', './Plastic_bag/塑料袋22.jpg', './Plastic_bag/塑料袋0.jpeg', './Plastic_bag/塑料袋6.jpeg', './Mineral_water_bottles/矿泉水瓶18.jpeg', './Plastic_bag/塑料袋1.jpeg', './Mineral_water_bottles/矿泉水瓶91.jpg', './Plastic_bag/塑料袋78.jpg', './Mineral_water_bottles/矿泉水瓶24.jpg', './Mineral_water_bottles/矿泉水瓶29.jpg', './Mineral_water_bottles/矿泉水瓶59.jpg', './Mineral_water_bottles/矿泉水瓶49.jpg', './Plastic_bag/塑料袋30.jpg', './Plastic_bag/塑料袋49.jpg', './Mineral_water_bottles/矿泉水瓶38.jpg', './Mineral_water_bottles/矿泉水瓶99.jpg', './Plastic_bag/塑料袋62.jpg', './Plastic_bag/塑料袋55.jpg', './Mineral_water_bottles/矿泉水瓶12.jpeg', './Mineral_water_bottles/矿泉水瓶60.jpg', './Plastic_bag/塑料袋76.jpg', './Mineral_water_bottles/矿泉水瓶53.jpg', './Mineral_water_bottles/矿泉水瓶3.jpeg', './Mineral_water_bottles/矿泉水瓶25.jpg', './Mineral_water_bottles/矿泉水瓶75.jpg', './Mineral_water_bottles/矿泉水瓶26.jpg', './Mineral_water_bottles/矿泉水瓶67.jpg', './Mineral_water_bottles/矿泉水瓶46.jpg', './Mineral_water_bottles/矿泉水瓶36.jpg', './Mineral_water_bottles/矿泉水瓶88.jpg', './Plastic_bag/塑料袋34.jpg', './Plastic_bag/塑料袋32.jpg', './Mineral_water_bottles/矿泉水瓶13.jpeg', './Plastic_bag/塑料袋13.jpeg', './Plastic_bag/塑料袋54.jpg', './Plastic_bag/塑料袋18.jpeg', './Mineral_water_bottles/矿泉水瓶82.jpg', './Plastic_bag/塑料袋29.jpg', './Plastic_bag/塑料袋67.jpg', './Plastic_bag/塑料袋35.jpg', './Mineral_water_bottles/矿泉水瓶31.jpg', './Mineral_water_bottles/矿泉水瓶76.jpg', './Plastic_bag/塑料袋81.jpg', './Mineral_water_bottles/矿泉水瓶50.jpg', './Mineral_water_bottles/矿泉水瓶68.jpg', './Mineral_water_bottles/矿泉水瓶6.jpeg', './Mineral_water_bottles/矿泉水瓶86.jpg', './Plastic_bag/塑料袋42.jpg', './Mineral_water_bottles/矿泉水瓶11.jpeg', './Plastic_bag/塑料袋83.jpg', './Mineral_water_bottles/矿泉水瓶54.jpg', './Mineral_water_bottles/矿泉水瓶61.jpg', './Mineral_water_bottles/矿泉水瓶45.jpg', './Plastic_bag/塑料袋69.jpg', './Plastic_bag/塑料袋19.jpeg', './Plastic_bag/塑料袋14.jpeg', './Plastic_bag/塑料袋41.jpg', './Plastic_bag/塑料袋77.jpg', './Plastic_bag/塑料袋11.jpeg', './Mineral_water_bottles/矿泉水瓶8.jpeg', './Plastic_bag/塑料袋20.jpg', './Plastic_bag/塑料袋74.jpg', './Mineral_water_bottles/矿泉水瓶97.jpg', './Mineral_water_bottles/矿泉水瓶93.jpg', './Plastic_bag/塑料袋65.jpg', './Mineral_water_bottles/矿泉水瓶90.jpg', './Mineral_water_bottles/矿泉水瓶57.jpg', './Plastic_bag/塑料袋39.jpg', './Plastic_bag/塑料袋28.jpg', './Mineral_water_bottles/矿泉水瓶20.jpg', './Mineral_water_bottles/矿泉水瓶103.jpg', './Mineral_water_bottles/矿泉水瓶62.jpg', './Plastic_bag/塑料袋68.jpg', './Mineral_water_bottles/矿泉水瓶32.jpg', './Mineral_water_bottles/矿泉水瓶101.jpg', './Plastic_bag/塑料袋17.jpeg', './Mineral_water_bottles/矿泉水瓶41.jpg', './Plastic_bag/塑料袋26.jpg', './Plastic_bag/塑料袋5.jpeg', './Plastic_bag/塑料袋16.jpeg', './Plastic_bag/塑料袋44.jpg', './Mineral_water_bottles/矿泉水瓶17.jpeg', './Plastic_bag/塑料袋4.jpeg', './Mineral_water_bottles/矿泉水瓶102.jpg', './Mineral_water_bottles/矿泉水瓶9.jpeg', './Plastic_bag/塑料袋52.jpg', './Mineral_water_bottles/矿泉水瓶5.jpeg', './Plastic_bag/塑料袋3.jpeg', './Mineral_water_bottles/矿泉水瓶7.jpeg', './Mineral_water_bottles/矿泉水瓶51.jpg', './Mineral_water_bottles/矿泉水瓶78.jpg', './Plastic_bag/塑料袋71.jpg', './Mineral_water_bottles/矿泉水瓶22.jpg', './Plastic_bag/塑料袋24.jpg', './Mineral_water_bottles/矿泉水瓶23.jpg', './Plastic_bag/塑料袋27.jpg', './Plastic_bag/塑料袋79.jpg', './Plastic_bag/塑料袋66.jpg', './Mineral_water_bottles/矿泉水瓶48.jpg', './Mineral_water_bottles/矿泉水瓶74.jpg', './Plastic_bag/塑料袋82.jpg', './Mineral_water_bottles/矿泉水瓶4.jpeg', './Plastic_bag/塑料袋15.jpeg', './Mineral_water_bottles/矿泉水瓶71.jpg', './Plastic_bag/塑料袋10.jpeg', './Mineral_water_bottles/矿泉水瓶69.jpg', './Plastic_bag/塑料袋46.jpg', './Plastic_bag/塑料袋56.jpg', './Mineral_water_bottles/矿泉水瓶83.jpg', './Plastic_bag/塑料袋36.jpg', './Plastic_bag/塑料袋64.jpg', './Mineral_water_bottles/矿泉水瓶39.jpg', './Mineral_water_bottles/矿泉水瓶14.jpeg', './Mineral_water_bottles/矿泉水瓶96.jpg'] [0, 0, 1, 1, 0, 1, 0, 0, 1, 0, 1, 1, 1, 1, 0, 1, 0, 1, 1, 0, 0, 0, 0, 1, 0, 0, 1, 1, 0, 1, 0, 1, 1, 1, 1, 1, 0, 0, 0, 1, 1, 0, 1, 1, 1, 0, 0, 0, 0, 1, 0, 1, 1, 1, 0, 1, 1, 1, 0, 1, 0, 1, 0, 1, 1, 0, 1, 1, 1, 1, 1, 1, 1, 0, 1, 0, 0, 1, 1, 0, 0, 0, 1, 0, 1, 0, 1, 1, 1, 1, 0, 0, 1, 1, 0, 0, 1, 1, 0, 1, 1, 1, 1, 1, 1, 1, 1, 1, 0, 0, 1, 0, 0, 0, 1, 0, 0, 0, 1, 1, 0, 1, 1, 1, 1, 0, 1, 0, 1, 1, 1, 0, 0, 0, 0, 0, 0, 1, 0, 0, 1, 1, 0, 1, 1, 0, 0, 1, 1, 1, 0, 1, 1, 0, 1, 0, 0, 0, 0, 1, 0, 1, 1, 0, 1, 0, 1, 1, 1, 0, 1, 0, 1, 0, 0, 0, 1, 1, 0, 1, 0, 1, 0, 1, 0, 0, 1, 0, 0, 1, 1, 1]\n",
      "WARNING:tensorflow:From <ipython-input-4-ce76c43eaf5e>:8: slice_input_producer (from tensorflow.python.training.input) is deprecated and will be removed in a future version.\n",
      "Instructions for updating:\n",
      "Queue-based input pipelines have been replaced by `tf.data`. Use `tf.data.Dataset.from_tensor_slices(tuple(tensor_list)).shuffle(tf.shape(input_tensor, out_type=tf.int64)[0]).repeat(num_epochs)`. If `shuffle=False`, omit the `.shuffle(...)`.\n",
      "WARNING:tensorflow:From D:\\APYPLA~1\\venv_dir\\venv1\\lib\\site-packages\\tensorflow\\python\\training\\input.py:374: range_input_producer (from tensorflow.python.training.input) is deprecated and will be removed in a future version.\n",
      "Instructions for updating:\n",
      "Queue-based input pipelines have been replaced by `tf.data`. Use `tf.data.Dataset.range(limit).shuffle(limit).repeat(num_epochs)`. If `shuffle=False`, omit the `.shuffle(...)`.\n",
      "WARNING:tensorflow:From D:\\APYPLA~1\\venv_dir\\venv1\\lib\\site-packages\\tensorflow\\python\\training\\input.py:320: input_producer (from tensorflow.python.training.input) is deprecated and will be removed in a future version.\n",
      "Instructions for updating:\n",
      "Queue-based input pipelines have been replaced by `tf.data`. Use `tf.data.Dataset.from_tensor_slices(input_tensor).shuffle(tf.shape(input_tensor, out_type=tf.int64)[0]).repeat(num_epochs)`. If `shuffle=False`, omit the `.shuffle(...)`.\n"
     ]
    },
    {
     "name": "stdout",
     "output_type": "stream",
     "text": [
      "WARNING:tensorflow:From D:\\APYPLA~1\\venv_dir\\venv1\\lib\\site-packages\\tensorflow\\python\\training\\input.py:190: limit_epochs (from tensorflow.python.training.input) is deprecated and will be removed in a future version.\n",
      "Instructions for updating:\n",
      "Queue-based input pipelines have been replaced by `tf.data`. Use `tf.data.Dataset.from_tensors(tensor).repeat(num_epochs)`.\n",
      "WARNING:tensorflow:From D:\\APYPLA~1\\venv_dir\\venv1\\lib\\site-packages\\tensorflow\\python\\training\\input.py:199: QueueRunner.__init__ (from tensorflow.python.training.queue_runner_impl) is deprecated and will be removed in a future version.\n",
      "Instructions for updating:\n",
      "To construct input pipelines, use the `tf.data` module.\n",
      "WARNING:tensorflow:From D:\\APYPLA~1\\venv_dir\\venv1\\lib\\site-packages\\tensorflow\\python\\training\\input.py:199: add_queue_runner (from tensorflow.python.training.queue_runner_impl) is deprecated and will be removed in a future version.\n",
      "Instructions for updating:\n",
      "To construct input pipelines, use the `tf.data` module.\n",
      "WARNING:tensorflow:From D:\\APYPLA~1\\venv_dir\\venv1\\lib\\site-packages\\tensorflow\\python\\training\\input.py:202: to_float (from tensorflow.python.ops.math_ops) is deprecated and will be removed in a future version.\n",
      "Instructions for updating:\n",
      "Use tf.cast instead.\n",
      "WARNING:tensorflow:From D:\\APYPLA~1\\venv_dir\\venv1\\lib\\site-packages\\tensorflow\\python\\ops\\control_flow_ops.py:3632: colocate_with (from tensorflow.python.framework.ops) is deprecated and will be removed in a future version.\n",
      "Instructions for updating:\n",
      "Colocations handled automatically by placer.\n",
      "WARNING:tensorflow:From D:\\APYPLA~1\\venv_dir\\venv1\\lib\\site-packages\\tensorflow\\python\\ops\\image_ops_impl.py:1241: div (from tensorflow.python.ops.math_ops) is deprecated and will be removed in a future version.\n",
      "Instructions for updating:\n",
      "Deprecated in favor of operator or tf.math.divide.\n",
      "WARNING:tensorflow:From <ipython-input-4-ce76c43eaf5e>:20: batch (from tensorflow.python.training.input) is deprecated and will be removed in a future version.\n",
      "Instructions for updating:\n",
      "Queue-based input pipelines have been replaced by `tf.data`. Use `tf.data.Dataset.batch(batch_size)` (or `padded_batch(...)` if `dynamic_pad=True`).\n",
      "Tensor(\"batch:0\", shape=(8, 208, 208, 3), dtype=float32) Tensor(\"Reshape:0\", shape=(8,), dtype=int32)\n"
     ]
    }
   ],
   "source": [
    "image_list,label_list=Get_Files(Plastic_bag_dir,Mineral_water_bottles_dir)\n",
    "print(image_list,label_list)\n",
    "\n",
    "image_batch, label_batch=get_batch(image_list,label_list,image_W,image_H,BATCH_SIZE,CAPACITY)\n",
    "print(image_batch, label_batch)"
   ]
  },
  {
   "cell_type": "markdown",
   "metadata": {},
   "source": [
    "### 卷积层"
   ]
  },
  {
   "cell_type": "code",
   "execution_count": 7,
   "metadata": {},
   "outputs": [],
   "source": [
    "def inference(images, batch_size, n_classes):  \n",
    "    with tf.variable_scope('conv1',reuse=tf.AUTO_REUSE) as scope: \n",
    "     # 卷积盒的为 3*3 的卷积盒，图片厚度是3，输出是16个featuremap\n",
    "        weights = tf.get_variable('weights',  \n",
    "                                  shape=[3, 3, 3, 16],  \n",
    "                                  dtype=tf.float32,  \n",
    "                                  initializer=tf.truncated_normal_initializer(stddev=0.1, dtype=tf.float32))  \n",
    "        biases = tf.get_variable('biases',  \n",
    "                                 shape=[16],  \n",
    "                                 dtype=tf.float32,  \n",
    "                                 initializer=tf.constant_initializer(0.1))  \n",
    "        conv = tf.nn.conv2d(images, weights, strides=[1, 1, 1, 1], padding='SAME')  \n",
    "        pre_activation = tf.nn.bias_add(conv, biases)  \n",
    "        conv1 = tf.nn.relu(pre_activation, name=scope.name)  \n",
    "  \n",
    "    with tf.variable_scope('pooling1_lrn',reuse=tf.AUTO_REUSE) as scope:  \n",
    "            pool1 = tf.nn.max_pool(conv1, ksize=[1, 3, 3, 1], strides=[1, 2, 2, 1], padding='SAME', name='pooling1')  \n",
    "            norm1 = tf.nn.lrn(pool1, depth_radius=4, bias=1.0, alpha=0.001 / 9.0, beta=0.75, name='norm1')  \n",
    "  \n",
    "    with tf.variable_scope('conv2',reuse=tf.AUTO_REUSE) as scope:  \n",
    "                weights = tf.get_variable('weights',  \n",
    "                                          shape=[3, 3, 16, 16],  \n",
    "                                          dtype=tf.float32,  \n",
    "                                          initializer=tf.truncated_normal_initializer(stddev=0.1, dtype=tf.float32))  \n",
    "                biases = tf.get_variable('biases',  \n",
    "                                         shape=[16],  \n",
    "                                         dtype=tf.float32,  \n",
    "                                         initializer=tf.constant_initializer(0.1))  \n",
    "                conv = tf.nn.conv2d(norm1, weights, strides=[1, 1, 1, 1], padding='SAME')  \n",
    "                pre_activation = tf.nn.bias_add(conv, biases)  \n",
    "                conv2 = tf.nn.relu(pre_activation, name='conv2')  \n",
    "  \n",
    "    # pool2 and norm2  \n",
    "    with tf.variable_scope('pooling2_lrn',reuse=tf.AUTO_REUSE) as scope:  \n",
    "        norm2 = tf.nn.lrn(conv2, depth_radius=4, bias=1.0, alpha=0.001 / 9.0, beta=0.75, name='norm2')  \n",
    "        pool2 = tf.nn.max_pool(norm2, ksize=[1, 3, 3, 1], strides=[1, 1, 1, 1], padding='SAME', name='pooling2')  \n",
    "  \n",
    "    with tf.variable_scope('local3',reuse=tf.AUTO_REUSE) as scope:  \n",
    "        reshape = tf.reshape(pool2, shape=[batch_size, -1])  \n",
    "        dim = reshape.get_shape()[1].value  \n",
    "        weights = tf.get_variable('weights',  \n",
    "                                  shape=[dim, 128],  \n",
    "                                  dtype=tf.float32,  \n",
    "                                  initializer=tf.truncated_normal_initializer(stddev=0.005, dtype=tf.float32))  \n",
    "        biases = tf.get_variable('biases',  \n",
    "                                 shape=[128],  \n",
    "                                 dtype=tf.float32,  \n",
    "                                 initializer=tf.constant_initializer(0.1))  \n",
    "    local3 = tf.nn.relu(tf.matmul(reshape, weights) + biases, name=scope.name)  \n",
    "  \n",
    "    # local4  \n",
    "    with tf.variable_scope('local4',reuse=tf.AUTO_REUSE) as scope:  \n",
    "        weights = tf.get_variable('weights',  \n",
    "                                  shape=[128, 128],  \n",
    "                                  dtype=tf.float32,  \n",
    "                                  initializer=tf.truncated_normal_initializer(stddev=0.005, dtype=tf.float32))  \n",
    "        biases = tf.get_variable('biases',  \n",
    "                                 shape=[128],  \n",
    "                                 dtype=tf.float32,  \n",
    "                                 initializer=tf.constant_initializer(0.1))  \n",
    "        local4 = tf.nn.relu(tf.matmul(local3, weights) + biases, name='local4')  \n",
    "  \n",
    "    # softmax  \n",
    "    with tf.variable_scope('softmax_linear',reuse=tf.AUTO_REUSE) as scope:  \n",
    "        weights = tf.get_variable('softmax_linear',  \n",
    "                                  shape=[128, n_classes],  \n",
    "                                  dtype=tf.float32,  \n",
    "                                  initializer=tf.truncated_normal_initializer(stddev=0.005, dtype=tf.float32))  \n",
    "        biases = tf.get_variable('biases',  \n",
    "                                 shape=[n_classes],  \n",
    "                                 dtype=tf.float32,  \n",
    "                                 initializer=tf.constant_initializer(0.1))  \n",
    "        softmax_linear = tf.add(tf.matmul(local4, weights), biases, name='softmax_linear')  \n",
    "  \n",
    "    return softmax_linear  \n",
    "  \n",
    "  \n",
    "  \n",
    "def losses(logits, labels):  \n",
    "    with tf.variable_scope('loss') as scope:  \n",
    "        cross_entropy = tf.nn.sparse_softmax_cross_entropy_with_logits \\\n",
    "                        (logits=logits, labels=labels, name='xentropy_per_example')  \n",
    "        loss = tf.reduce_mean(cross_entropy, name='loss')  \n",
    "        tf.summary.scalar(scope.name + '/loss', loss)  \n",
    "    return loss  \n",
    "  \n",
    "def trainning(loss, learning_rate):  \n",
    "    with tf.name_scope('optimizer'):  \n",
    "        optimizer = tf.train.AdamOptimizer(learning_rate= learning_rate)  \n",
    "        global_step = tf.Variable(0, name='global_step', trainable=False)  \n",
    "        train_op = optimizer.minimize(loss, global_step= global_step)  \n",
    "    return train_op  \n",
    "  \n",
    "def evaluation(logits, labels):  \n",
    "    with tf.variable_scope('accuracy') as scope:  \n",
    "        correct = tf.nn.in_top_k(logits, labels, 1)  \n",
    "        correct = tf.cast(correct, tf.float16)  \n",
    "        accuracy = tf.reduce_mean(correct)  \n",
    "        tf.summary.scalar(scope.name + '/accuracy', accuracy)  \n",
    "    return accuracy"
   ]
  },
  {
   "cell_type": "markdown",
   "metadata": {},
   "source": [
    "### 模型训练"
   ]
  },
  {
   "cell_type": "code",
   "execution_count": 18,
   "metadata": {},
   "outputs": [],
   "source": [
    "def run_training():  \n",
    "    \n",
    "    logs_train_dir = './saveNet/'  \n",
    "    \n",
    "    # 获取图片和标签集\n",
    "    train, train_label = Get_Files(Plastic_bag_dir,Mineral_water_bottles_dir)\n",
    "    \n",
    "    # 生成批次\n",
    "    train_batch, train_label_batch = get_batch(train,  \n",
    "                                              train_label,  \n",
    "                                              IMG_W,  \n",
    "                                              IMG_H,  \n",
    "                                              BATCH_SIZE,   \n",
    "                                              CAPACITY)\n",
    "    # 进入模型\n",
    "    train_logits = inference(train_batch, BATCH_SIZE, N_CLASSES) \n",
    "    # 获取 loss \n",
    "    train_loss = losses(train_logits, train_label_batch)\n",
    "    # 训练 \n",
    "    train_op = trainning(train_loss, learning_rate)\n",
    "    # 获取准确率 \n",
    "    train__acc = evaluation(train_logits, train_label_batch) \n",
    "\n",
    "    # 合并 summary\n",
    "    summary_op = tf.summary.merge_all()  \n",
    "    sess = tf.Session()\n",
    "    \n",
    "\n",
    "    \n",
    "    # 保存summary\n",
    "    train_writer = tf.summary.FileWriter(logs_train_dir, sess.graph)  \n",
    "    saver = tf.train.Saver()  \n",
    "      \n",
    "    sess.run(tf.global_variables_initializer())  \n",
    "    coord = tf.train.Coordinator()  \n",
    "    threads = tf.train.start_queue_runners(sess=sess, coord=coord)  \n",
    "      \n",
    "    try:  \n",
    "        for step in np.arange(MAX_STEP):  \n",
    "            if coord.should_stop():  \n",
    "                    break  \n",
    "            _, tra_loss, tra_acc = sess.run([train_op, train_loss, train__acc])  \n",
    "                 \n",
    "            if step % 50 == 0:  \n",
    "                print('Step %d, train loss = %.2f, train accuracy = %.2f%%' %(step, tra_loss, tra_acc*100.0))  \n",
    "                summary_str = sess.run(summary_op)  \n",
    "                train_writer.add_summary(summary_str, step)  \n",
    "                \n",
    "                \n",
    "#             if step % 2000 == 0 or (step + 1) == MAX_STEP:  \n",
    "            if step % 100 == 0 or (step + 1) == MAX_STEP:  \n",
    "                # 每隔2000步保存一下模型，模型保存在 checkpoint_path 中\n",
    "                checkpoint_path = os.path.join(logs_train_dir, 'model.ckpt')  \n",
    "                saver.save(sess, checkpoint_path, global_step=step)  \n",
    "                  \n",
    "    except tf.errors.OutOfRangeError:  \n",
    "        print('Done training -- epoch limit reached')  \n",
    "    finally:  \n",
    "        coord.request_stop()\n",
    "    coord.join(threads)  \n",
    "    sess.close()  \n",
    "\n"
   ]
  },
  {
   "cell_type": "code",
   "execution_count": 19,
   "metadata": {},
   "outputs": [],
   "source": [
    "# 变量重用\n",
    "tf.get_variable_scope().reuse_variables()"
   ]
  },
  {
   "cell_type": "code",
   "execution_count": null,
   "metadata": {},
   "outputs": [],
   "source": [
    "# train\n",
    "run_training()"
   ]
  },
  {
   "cell_type": "code",
   "execution_count": null,
   "metadata": {},
   "outputs": [],
   "source": [
    "# 查看所有变量的名字\n",
    "for tv in tf.trainable_variables():\n",
    "    print (tv.name)"
   ]
  },
  {
   "cell_type": "code",
   "execution_count": null,
   "metadata": {},
   "outputs": [],
   "source": [
    "acc=tf.get_default_graph().get_tensor_by_name(\"accuracy/accuracy:0\")\n",
    "print(sess.run(acc))"
   ]
  },
  {
   "cell_type": "markdown",
   "metadata": {},
   "source": [
    "### 验证"
   ]
  },
  {
   "cell_type": "code",
   "execution_count": 21,
   "metadata": {},
   "outputs": [],
   "source": [
    "from PIL import Image  \n",
    "import matplotlib.pyplot as plt"
   ]
  },
  {
   "cell_type": "code",
   "execution_count": 56,
   "metadata": {},
   "outputs": [],
   "source": [
    "#从训练集中选取一张图片 \n",
    "def get_one_image(train): \n",
    "    files = os.listdir(train) \n",
    "#     files = '图片3.jpg'\n",
    "\n",
    "    n = len(files)\n",
    "    ind = np.random.randint(0,n)\n",
    "    img_dir = os.path.join(train,files[ind])  \n",
    "    image = Image.open(img_dir)  \n",
    "    image = Image.open(files)  \n",
    "    plt.imshow(image)\n",
    "    plt.show()\n",
    "    image = image.resize([208, 208])  \n",
    "    image = np.array(image)\n",
    "    return image  "
   ]
  },
  {
   "cell_type": "code",
   "execution_count": 35,
   "metadata": {},
   "outputs": [],
   "source": [
    "def evaluate_one_image():  \n",
    "#     train = './Mineral_water_bottles/'  \n",
    "    train ='./Plastic_bag/'\n",
    "    # 获取图片路径集和标签集\n",
    "    image_array = get_one_image(train)  \n",
    "      \n",
    "    with tf.Graph().as_default():  \n",
    "        BATCH_SIZE = 1  # 因为只读取一副图片 所以batch 设置为1\n",
    "        N_CLASSES = 2  # 2个输出神经元，［1，0］ 或者 ［0，1］猫和狗的概率\n",
    "        # 转化图片格式\n",
    "        image = tf.cast(image_array, tf.float32)  \n",
    "        # 图片标准化\n",
    "        image = tf.image.per_image_standardization(image)\n",
    "        # 图片原来是三维的 [208, 208, 3] 重新定义图片形状 改为一个4D  四维的 tensor\n",
    "        image = tf.reshape(image, [1, 208, 208, 3])  \n",
    "        logit = inference(image, BATCH_SIZE, N_CLASSES)  \n",
    "        # 因为 inference 的返回没有用激活函数，所以在这里对结果用softmax 激活\n",
    "        logit = tf.nn.softmax(logit)  \n",
    "        \n",
    "        # 用最原始的输入数据的方式向模型输入数据 placeholder\n",
    "        x = tf.placeholder(tf.float32, shape=[208, 208, 3])  \n",
    "        \n",
    "        # 我门存放模型的路径\n",
    "        logs_train_dir = './saveNet/'   \n",
    "        # 定义saver \n",
    "        saver = tf.train.Saver()  \n",
    "          \n",
    "        with tf.Session() as sess:  \n",
    "              \n",
    "            print(\"从指定的路径中加载模型。。。。\")\n",
    "            # 将模型加载到sess 中 \n",
    "            ckpt = tf.train.get_checkpoint_state(logs_train_dir)  \n",
    "            if ckpt and ckpt.model_checkpoint_path:  \n",
    "                global_step = ckpt.model_checkpoint_path.split('/')[-1].split('-')[-1]  \n",
    "                saver.restore(sess, ckpt.model_checkpoint_path)  \n",
    "                print('模型加载成功, 训练的步数为 %s' % global_step)  \n",
    "            else:  \n",
    "                print('模型加载失败，，，文件没有找到')  \n",
    "            # 将图片输入到模型计算\n",
    "            prediction = sess.run(logit, feed_dict={x: image_array})\n",
    "            # 获取输出结果中最大概率的索引\n",
    "            max_index = np.argmax(prediction)  \n",
    "            if max_index==0:  \n",
    "                print('塑料袋概率 %.6f' %prediction[:, 0])  \n",
    "            else:  \n",
    "                print('矿泉水瓶的概率 %.6f' %prediction[:, 1]) "
   ]
  },
  {
   "cell_type": "code",
   "execution_count": 57,
   "metadata": {},
   "outputs": [
    {
     "data": {
      "image/png": "[encoded data removed]",
      "text/plain": [
       "<Figure size 432x288 with 1 Axes>"
      ]
     },
     "metadata": {
      "needs_background": "light"
     },
     "output_type": "display_data"
    },
    {
     "name": "stdout",
     "output_type": "stream",
     "text": [
      "从指定的路径中加载模型。。。。\n",
      "INFO:tensorflow:Restoring parameters from ./saveNet/model.ckpt-100\n",
      "模型加载成功, 训练的步数为 100\n",
      "塑料袋概率 0.983925\n"
     ]
    }
   ],
   "source": [
    "# 测试\n",
    "evaluate_one_image()"
   ]
  },
  {
   "cell_type": "code",
   "execution_count": null,
   "metadata": {},
   "outputs": [],
   "source": []
  },
  {
   "cell_type": "code",
   "execution_count": null,
   "metadata": {},
   "outputs": [],
   "source": []
  }
 ],
 "metadata": {
  "kernelspec": {
   "display_name": "venv1",
   "language": "python",
   "name": "venv1"
  },
  "language_info": {
   "codemirror_mode": {
    "name": "ipython",
    "version": 3
   },
   "file_extension": ".py",
   "mimetype": "text/x-python",
   "name": "python",
   "nbconvert_exporter": "python",
   "pygments_lexer": "ipython3",
   "version": "3.6.4"
  }
 },
 "nbformat": 4,
 "nbformat_minor": 2
}
