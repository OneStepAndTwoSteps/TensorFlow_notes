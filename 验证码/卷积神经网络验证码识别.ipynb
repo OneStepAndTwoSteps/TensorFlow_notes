{
 "cells": [
  {
   "cell_type": "markdown",
   "metadata": {},
   "source": [
    "# 训练模型\n",
    "\n",
    "## 引入第三方包"
   ]
  },
  {
   "cell_type": "code",
   "execution_count": 2,
   "metadata": {},
   "outputs": [
    {
     "name": "stderr",
     "output_type": "stream",
     "text": [
      "D:\\python\\lib\\site-packages\\h5py\\__init__.py:36: FutureWarning: Conversion of the second argument of issubdtype from `float` to `np.floating` is deprecated. In future, it will be treated as `np.float64 == np.dtype(float).type`.\n",
      "  from ._conv import register_converters as _register_converters\n",
      "Using TensorFlow backend.\n"
     ]
    }
   ],
   "source": [
    "from PIL import Image\n",
    "from keras import backend as K\n",
    "from keras.utils.vis_utils import plot_model\n",
    "from keras.models import *\n",
    "from keras.layers import *\n",
    "\n",
    "import glob\n",
    "import pickle\n",
    "\n",
    "import numpy as np\n",
    "import tensorflow.gfile as gfile\n",
    "import matplotlib.pyplot as plt"
   ]
  },
  {
   "cell_type": "markdown",
   "metadata": {},
   "source": [
    "## 定义超参数和字符集"
   ]
  },
  {
   "cell_type": "code",
   "execution_count": 4,
   "metadata": {},
   "outputs": [],
   "source": [
    "NUMBER = ['0', '1', '2', '3', '4', '5', '6', '7', '8', '9']\n",
    "LOWERCASE = ['a', 'b', 'c', 'd', 'e', 'f', 'g', 'h', 'i', 'j', 'k', 'l', 'm', 'n', 'o', 'p', 'q', 'r', 's', 't', 'u',\n",
    "            'v', 'w', 'x', 'y', 'z']\n",
    "UPPERCASE = ['A', 'B', 'C', 'D', 'E', 'F', 'G', 'H', 'I', 'J', 'K', 'L', 'M', 'N', 'O', 'P', 'Q', 'R', 'S', 'T', 'U',\n",
    "           'V', 'W', 'X', 'Y', 'Z']\n",
    "\n",
    "CAPTCHA_CHARSET = NUMBER   # 验证码字符集\n",
    "CAPTCHA_LEN = 4            # 验证码长度\n",
    "CAPTCHA_HEIGHT = 60        # 验证码高度\n",
    "CAPTCHA_WIDTH = 160        # 验证码宽度\n",
    "\n",
    "TRAIN_DATA_DIR = './train-data/' # 验证码数据集目录\n",
    "TEST_DATA_DIR = './test-data/'\n",
    "\n",
    "# 每一批训练图片的个数\n",
    "BATCH_SIZE = 100\n",
    "# 训练的轮数，即训练第几轮结束\n",
    "EPOCHS = 2\n",
    "# 优化器使用adam，其有自适应参数的功能\n",
    "OPT = 'adam'\n",
    "# 损失函数\n",
    "LOSS = 'binary_crossentropy'\n",
    "\n",
    "# model 是 keras训练出来的模型\n",
    "# 存放model的目录\n",
    "MODEL_DIR = './model/train_demo/'\n",
    "# 文件的后缀名\n",
    "MODEL_FORMAT = '.h5'\n",
    "# 训练记录的文件目录，可以查看准确率，loss等参数变化\n",
    "HISTORY_DIR = './history/train_demo/'\n",
    "# 文件的后缀名\n",
    "HISTORY_FORMAT = '.history'\n",
    "\n",
    "# 定义模型文件和训练记录文件的格式化字符串 {模型目录}captcha_{模型优化器}_{使用的损失函数}_bs_{BATCH_SIZE是多少}_epochs_{EPOCHS轮数}{后缀名}\"\n",
    "filename_str = \"{}captcha_{}_{}_bs_{}_epochs_{}{}\"\n",
    "\n",
    "# 定义模型网络结构文件 文件名为captcha_classfication.png\n",
    "MODEL_VIS_FILE = 'captcha_classfication' + '.png'\n",
    "# 模型文件\n",
    "MODEL_FILE = filename_str.format(MODEL_DIR, OPT, LOSS, str(BATCH_SIZE), str(EPOCHS), MODEL_FORMAT)\n",
    "# 训练记录文件\n",
    "HISTORY_FILE = filename_str.format(HISTORY_DIR, OPT, LOSS, str(BATCH_SIZE), str(EPOCHS), HISTORY_FORMAT)"
   ]
  },
  {
   "cell_type": "markdown",
   "metadata": {},
   "source": [
    "## 将 RGB 验证码图像转为灰度图"
   ]
  },
  {
   "cell_type": "code",
   "execution_count": 5,
   "metadata": {},
   "outputs": [],
   "source": [
    "def rgb2gray(img):\n",
    "    # Y' = 0.299 R + 0.587 G + 0.114 B \n",
    "    # https://en.wikipedia.org/wiki/Grayscale#Converting_color_to_grayscale\n",
    "    return np.dot(img[...,:3], [0.299, 0.587, 0.114])"
   ]
  },
  {
   "cell_type": "markdown",
   "metadata": {},
   "source": [
    "## 对验证码中每个字符进行 one-hot 编码"
   ]
  },
  {
   "cell_type": "code",
   "execution_count": 20,
   "metadata": {},
   "outputs": [],
   "source": [
    "def text2vec(text, length=CAPTCHA_LEN, charset=CAPTCHA_CHARSET):\n",
    "#     print(text)\n",
    "    text_len = len(text)\n",
    "    # 验证码长度校验\n",
    "    if text_len != length:\n",
    "        raise ValueError('Error: length of captcha should be {}, but got {}'.format(length, text_len))\n",
    "    \n",
    "    # 生成一个形如（CAPTCHA_LEN*CAPTHA_CHARSET,) 的一维向量\n",
    "    # 例如，4个纯数字的验证码生成形如(4*10,)的一维向量\n",
    "    vec = np.zeros(length * len(charset))\n",
    "    for i in range(length):\n",
    "        # One-hot 编码验证码中的每个数字\n",
    "        # 每个字符的热码 = 索引 + 偏移量\n",
    "        vec[charset.index(text[i]) + i*len(charset)] = 1\n",
    "#     print('vec',vec)\n",
    "    return vec"
   ]
  },
  {
   "cell_type": "markdown",
   "metadata": {},
   "source": [
    "## 将验证码向量解码为对应字符"
   ]
  },
  {
   "cell_type": "code",
   "execution_count": 21,
   "metadata": {},
   "outputs": [],
   "source": [
    "def vec2text(vector):\n",
    "    if not isinstance(vector, np.ndarray):\n",
    "        vector = np.asarray(vector)\n",
    "    vector = np.reshape(vector, [CAPTCHA_LEN, -1])\n",
    "    text = ''\n",
    "    for item in vector:\n",
    "        text += CAPTCHA_CHARSET[np.argmax(item)]\n",
    "    return text"
   ]
  },
  {
   "cell_type": "markdown",
   "metadata": {},
   "source": [
    "## 适配 Keras 图像数据格式"
   ]
  },
  {
   "cell_type": "code",
   "execution_count": 22,
   "metadata": {},
   "outputs": [],
   "source": [
    "def fit_keras_channels(batch, rows=CAPTCHA_HEIGHT, cols=CAPTCHA_WIDTH):\n",
    "    if K.image_data_format() == 'channels_first':\n",
    "        batch = batch.reshape(batch.shape[0], 1, rows, cols)\n",
    "        input_shape = (1, rows, cols)\n",
    "    else:\n",
    "        batch = batch.reshape(batch.shape[0], rows, cols, 1)\n",
    "        input_shape = (rows, cols, 1)\n",
    "    \n",
    "    return batch, input_shape"
   ]
  },
  {
   "cell_type": "markdown",
   "metadata": {},
   "source": [
    "## 读取训练集"
   ]
  },
  {
   "cell_type": "code",
   "execution_count": 23,
   "metadata": {},
   "outputs": [],
   "source": [
    "X_train = []\n",
    "Y_train = []\n",
    "np.set_printoptions(threshold=np.inf)\n",
    "# 使用glob方法读取所有png结尾的文件\n",
    "for filename in glob.glob(TRAIN_DATA_DIR + '*.png'):\n",
    "    # 将图片打开转换成ndarray格式保存到X_train数组中\n",
    "    # print(Image.open(filename))\n",
    "    X_train.append(np.array(Image.open(filename)))\n",
    "#     print(X_train)    \n",
    "#     print(np.shape(X_train))\n",
    "#     break\n",
    "    # Y_train为读取文件标签，不要后缀名也不要父目录路径\n",
    "    filename=filename.lstrip(TRAIN_DATA_DIR).rstrip('.png')\n",
    "    Y_train.append(filename.replace('\\\\',''))\n",
    "#     Y_train.append(filename.lstrip(TRAIN_DATA_DIR).rstrip('.png'))"
   ]
  },
  {
   "cell_type": "code",
   "execution_count": 24,
   "metadata": {},
   "outputs": [
    {
     "name": "stdout",
     "output_type": "stream",
     "text": [
      "0012\n",
      "(1211, 60, 160, 3)\n",
      "(1211,)\n"
     ]
    }
   ],
   "source": [
    "print(Y_train[2])\n",
    "print(np.shape(X_train))\n",
    "print(np.shape(Y_train))"
   ]
  },
  {
   "cell_type": "markdown",
   "metadata": {},
   "source": [
    "## 处理训练集图像"
   ]
  },
  {
   "cell_type": "code",
   "execution_count": 25,
   "metadata": {},
   "outputs": [
    {
     "name": "stdout",
     "output_type": "stream",
     "text": [
      "(1211, 60, 160, 1) <class 'numpy.ndarray'>\n",
      "(60, 160, 1)\n"
     ]
    }
   ],
   "source": [
    "# list -> rgb(numpy) 将list转化为numpy数组\n",
    "X_train = np.array(X_train, dtype=np.float32)\n",
    "# rgb -> gray 将RGB转成灰度图\n",
    "X_train = rgb2gray(X_train)\n",
    "# normalize 规范化\n",
    "X_train = X_train / 255\n",
    "\n",
    "# Fit keras channels  keras的适配\n",
    "X_train, input_shape = fit_keras_channels(X_train)\n",
    "\n",
    "# 打印X_train的形状和类型，因为可能会生成相同的文件名，所以有的文件会被覆盖，总的文件数量小于上面指定生成的文件数量\n",
    "print(X_train.shape, type(X_train))\n",
    "print(input_shape)"
   ]
  },
  {
   "cell_type": "markdown",
   "metadata": {},
   "source": [
    "## 处理训练集标签"
   ]
  },
  {
   "cell_type": "code",
   "execution_count": 26,
   "metadata": {},
   "outputs": [
    {
     "name": "stdout",
     "output_type": "stream",
     "text": [
      "(1211, 40) <class 'numpy.ndarray'>\n"
     ]
    }
   ],
   "source": [
    "Y_train = list(Y_train)\n",
    "\n",
    "# 对验证码中每个字符按照标签进行 one-hot 编码\n",
    "for i in range(len(Y_train)):\n",
    "    Y_train[i] = text2vec(Y_train[i])\n",
    "\n",
    "# 设置numpy数组\n",
    "Y_train = np.asarray(Y_train)\n",
    "# 打印图片形状\n",
    "print(Y_train.shape, type(Y_train))"
   ]
  },
  {
   "cell_type": "markdown",
   "metadata": {},
   "source": [
    "## 读取测试集，处理对应图像和标签"
   ]
  },
  {
   "cell_type": "code",
   "execution_count": 28,
   "metadata": {
    "scrolled": true
   },
   "outputs": [
    {
     "name": "stdout",
     "output_type": "stream",
     "text": [
      "(954, 60, 160, 1) <class 'numpy.ndarray'>\n",
      "(954, 40) <class 'numpy.ndarray'>\n"
     ]
    }
   ],
   "source": [
    "X_test = []\n",
    "Y_test = []\n",
    "for filename in glob.glob(TEST_DATA_DIR + '*.png'):\n",
    "    X_test.append(np.array(Image.open(filename)))\n",
    "    filename=filename.lstrip(TEST_DATA_DIR).rstrip('.png')\n",
    "    Y_test.append(filename.replace('\\\\',''))\n",
    "#     Y_test.append(filename.lstrip(TEST_DATA_DIR).rstrip('.png'))\n",
    "\n",
    "# list -> rgb -> gray -> normalization -> fit keras  分别调用上面定义的函数\n",
    "X_test = np.array(X_test, dtype=np.float32)\n",
    "# 灰度处理\n",
    "X_test = rgb2gray(X_test)\n",
    "# normalization处理\n",
    "X_test = X_test / 255\n",
    "# keras适配\n",
    "X_test, _ = fit_keras_channels(X_test)\n",
    "\n",
    "Y_test = list(Y_test)\n",
    "for i in range(len(Y_test)):\n",
    "    Y_test[i] = text2vec(Y_test[i])\n",
    "\n",
    "Y_test = np.asarray(Y_test)\n",
    "\n",
    "print(X_test.shape, type(X_test))\n",
    "print(Y_test.shape, type(Y_test))"
   ]
  },
  {
   "cell_type": "markdown",
   "metadata": {},
   "source": [
    "## 创建验证码识别模型"
   ]
  },
  {
   "cell_type": "code",
   "execution_count": 29,
   "metadata": {},
   "outputs": [
    {
     "name": "stdout",
     "output_type": "stream",
     "text": [
      "WARNING:tensorflow:From D:\\APYPLA~1\\venv_dir\\venv1\\lib\\site-packages\\tensorflow\\python\\framework\\op_def_library.py:263: colocate_with (from tensorflow.python.framework.ops) is deprecated and will be removed in a future version.\n",
      "Instructions for updating:\n",
      "Colocations handled automatically by placer.\n",
      "WARNING:tensorflow:From D:\\APYPLA~1\\venv_dir\\venv1\\lib\\site-packages\\keras\\backend\\tensorflow_backend.py:3445: calling dropout (from tensorflow.python.ops.nn_ops) with keep_prob is deprecated and will be removed in a future version.\n",
      "Instructions for updating:\n",
      "Please use `rate` instead of `keep_prob`. Rate should be set to `rate = 1 - keep_prob`.\n"
     ]
    }
   ],
   "source": [
    "# 输入层\n",
    "inputs = Input(shape = input_shape, name = \"inputs\")\n",
    "\n",
    "# 第1层卷积 ,定义了32个卷积核，卷积核的形状为3x3，同时命名为conv1，输入就是我们的输入层的数据\n",
    "conv1 = Conv2D(32, (3, 3), name = \"conv1\")(inputs)\n",
    "# 经过relu激活后得到relu1\n",
    "relu1 = Activation('relu', name=\"relu1\")(conv1)\n",
    "\n",
    "# 第2层卷积，将激活值输入到第二层卷积中\n",
    "conv2 = Conv2D(32, (3, 3), name = \"conv2\")(relu1)\n",
    "relu2 = Activation('relu', name=\"relu2\")(conv2)\n",
    "# 做MaxPooling 设置池化大小为2*2，表示每一个2*2的像素都会变成一个像素，这样整个图像的参数就会变少\n",
    "pool2 = MaxPooling2D(pool_size=(2,2), padding='same', name=\"pool2\")(relu2)\n",
    "\n",
    "# 第3层卷积，将第二层的maxpoling得出来的值作为第三层的输入，在第三层卷积的时候我们又扩大了卷积核的数量\n",
    "conv3 = Conv2D(64, (3, 3), name = \"conv3\")(pool2)\n",
    "relu3 = Activation('relu', name=\"relu3\")(conv3)\n",
    "# 做MaxPooling 设置池化大小为2*2，表示每一个2*2的像素都会变成一个像素，这样整个图像的参数就会变少，得到池化后的值为pool3\n",
    "pool3 = MaxPooling2D(pool_size=(2,2), padding='same', name=\"pool3\")(relu3)\n",
    "\n",
    "# 将 Pooled feature map 摊平后输入全连接网络\n",
    "x = Flatten()(pool3)\n",
    "\n",
    "# Dropout，防止过拟合\n",
    "x = Dropout(0.25)(x)\n",
    "\n",
    "# 4个全连接层分别做10分类，就是说每一个字符有十个类别，分别对应4个字符。此时x就变成了一个Captcha也就是我们的验证码\n",
    "x = [Dense(10, activation='softmax', name='fc%d'%(i+1))(x) for i in range(4)]\n",
    "\n",
    "# 4个字符向量拼接在一起，与标签向量形式一致，作为模型输出。就对应我们四个one-hot拼接起来的向量\n",
    "outs = Concatenate()(x)\n",
    "\n",
    "# 定义模型的输入与输出，inputs就是形状为[None,60，160，1]这样形状的图像。outputs就是输出长位40的向量\n",
    "model = Model(inputs=inputs, outputs=outs)\n",
    "# 对模型进行编译，输入三个参数 优化器，损失函数，评价指标(指定为准确率)\n",
    "model.compile(optimizer=OPT, loss=LOSS, metrics=['accuracy'])"
   ]
  },
  {
   "cell_type": "code",
   "execution_count": 30,
   "metadata": {},
   "outputs": [],
   "source": [
    "# print(X_train[0])"
   ]
  },
  {
   "cell_type": "markdown",
   "metadata": {},
   "source": [
    "## 查看模型摘要"
   ]
  },
  {
   "cell_type": "code",
   "execution_count": 31,
   "metadata": {},
   "outputs": [
    {
     "name": "stdout",
     "output_type": "stream",
     "text": [
      "__________________________________________________________________________________________________\n",
      "Layer (type)                    Output Shape         Param #     Connected to                     \n",
      "==================================================================================================\n",
      "inputs (InputLayer)             (None, 60, 160, 1)   0                                            \n",
      "__________________________________________________________________________________________________\n",
      "conv1 (Conv2D)                  (None, 58, 158, 32)  320         inputs[0][0]                     \n",
      "__________________________________________________________________________________________________\n",
      "relu1 (Activation)              (None, 58, 158, 32)  0           conv1[0][0]                      \n",
      "__________________________________________________________________________________________________\n",
      "conv2 (Conv2D)                  (None, 56, 156, 32)  9248        relu1[0][0]                      \n",
      "__________________________________________________________________________________________________\n",
      "relu2 (Activation)              (None, 56, 156, 32)  0           conv2[0][0]                      \n",
      "__________________________________________________________________________________________________\n",
      "pool2 (MaxPooling2D)            (None, 28, 78, 32)   0           relu2[0][0]                      \n",
      "__________________________________________________________________________________________________\n",
      "conv3 (Conv2D)                  (None, 26, 76, 64)   18496       pool2[0][0]                      \n",
      "__________________________________________________________________________________________________\n",
      "relu3 (Activation)              (None, 26, 76, 64)   0           conv3[0][0]                      \n",
      "__________________________________________________________________________________________________\n",
      "pool3 (MaxPooling2D)            (None, 13, 38, 64)   0           relu3[0][0]                      \n",
      "__________________________________________________________________________________________________\n",
      "flatten_1 (Flatten)             (None, 31616)        0           pool3[0][0]                      \n",
      "__________________________________________________________________________________________________\n",
      "dropout_1 (Dropout)             (None, 31616)        0           flatten_1[0][0]                  \n",
      "__________________________________________________________________________________________________\n",
      "fc1 (Dense)                     (None, 10)           316170      dropout_1[0][0]                  \n",
      "__________________________________________________________________________________________________\n",
      "fc2 (Dense)                     (None, 10)           316170      dropout_1[0][0]                  \n",
      "__________________________________________________________________________________________________\n",
      "fc3 (Dense)                     (None, 10)           316170      dropout_1[0][0]                  \n",
      "__________________________________________________________________________________________________\n",
      "fc4 (Dense)                     (None, 10)           316170      dropout_1[0][0]                  \n",
      "__________________________________________________________________________________________________\n",
      "concatenate_1 (Concatenate)     (None, 40)           0           fc1[0][0]                        \n",
      "                                                                 fc2[0][0]                        \n",
      "                                                                 fc3[0][0]                        \n",
      "                                                                 fc4[0][0]                        \n",
      "==================================================================================================\n",
      "Total params: 1,292,744\n",
      "Trainable params: 1,292,744\n",
      "Non-trainable params: 0\n",
      "__________________________________________________________________________________________________\n"
     ]
    }
   ],
   "source": [
    "model.summary()"
   ]
  },
  {
   "cell_type": "markdown",
   "metadata": {},
   "source": [
    "## 模型可视化"
   ]
  },
  {
   "cell_type": "code",
   "execution_count": 32,
   "metadata": {},
   "outputs": [],
   "source": [
    "# model 我们的模型， ti_file 存储模型的路径 \n",
    "# plot_model(model, to_file=MODEL_VIS_FILE, show_shapes=True)"
   ]
  },
  {
   "cell_type": "markdown",
   "metadata": {},
   "source": [
    "## 训练模型"
   ]
  },
  {
   "cell_type": "markdown",
   "metadata": {},
   "source": [
    "### history就是我们训练模型的输出记录\n",
    "#### 可以用这些数据画折线图，直观看到：\n",
    "\n",
    "__模型收敛的速度（斜率）           模型是否已经收敛（稳定性）           模型是否过拟合（验证数据集）__\n"
   ]
  },
  {
   "cell_type": "code",
   "execution_count": 26,
   "metadata": {},
   "outputs": [
    {
     "name": "stdout",
     "output_type": "stream",
     "text": [
      "WARNING:tensorflow:From D:\\APYPLA~1\\venv_dir\\venv1\\lib\\site-packages\\tensorflow\\python\\ops\\math_ops.py:3066: to_int32 (from tensorflow.python.ops.math_ops) is deprecated and will be removed in a future version.\n",
      "Instructions for updating:\n",
      "Use tf.cast instead.\n",
      "Train on 1211 samples, validate on 954 samples\n",
      "Epoch 1/2\n",
      " - 40s - loss: 0.3252 - acc: 0.8963 - val_loss: 0.3731 - val_acc: 0.9000\n",
      "Epoch 2/2\n",
      " - 38s - loss: 0.2966 - acc: 0.9000 - val_loss: 0.4196 - val_acc: 0.9000\n"
     ]
    }
   ],
   "source": [
    "# history就是我们训练模型的输出记录\n",
    "history = model.fit(X_train,\n",
    "                    Y_train,\n",
    "                    batch_size=BATCH_SIZE,\n",
    "                    epochs=EPOCHS,\n",
    "                    verbose=2,\n",
    "                    validation_data=(X_test, Y_test))"
   ]
  },
  {
   "cell_type": "markdown",
   "metadata": {},
   "source": [
    "## 预测样例"
   ]
  },
  {
   "cell_type": "code",
   "execution_count": 28,
   "metadata": {},
   "outputs": [
    {
     "name": "stdout",
     "output_type": "stream",
     "text": [
      "0111\n"
     ]
    }
   ],
   "source": [
    "# 实际的验证码\n",
    "print(vec2text(Y_test[9]))"
   ]
  },
  {
   "cell_type": "code",
   "execution_count": 30,
   "metadata": {},
   "outputs": [],
   "source": [
    "# 打开图片进行验证\n",
    "img = rgb2gray(np.array(Image.open('3935.png')))\n",
    "img=img/255\n",
    "yy = model.predict(img.reshape(1, 60, 160, 1))"
   ]
  },
  {
   "cell_type": "code",
   "execution_count": 31,
   "metadata": {},
   "outputs": [
    {
     "name": "stdout",
     "output_type": "stream",
     "text": [
      "[[3.14430773e-01 2.95201272e-01 3.87412786e-01 1.10699190e-03\n",
      "  3.07912560e-04 3.17515922e-04 2.72155012e-04 3.36285535e-04\n",
      "  2.95922538e-04 3.18263512e-04 8.66983831e-02 9.00086686e-02\n",
      "  1.29232615e-01 1.04191884e-01 7.28161857e-02 9.86915529e-02\n",
      "  9.22656581e-02 8.81439969e-02 8.59639794e-02 1.51987001e-01\n",
      "  7.84292817e-02 1.41196758e-01 9.87205505e-02 7.86532238e-02\n",
      "  7.66169876e-02 7.36141503e-02 1.33546963e-01 9.79153365e-02\n",
      "  9.85080227e-02 1.22798771e-01 8.70112553e-02 6.31042570e-02\n",
      "  1.01753846e-01 9.58472490e-02 1.02666937e-01 8.24608728e-02\n",
      "  1.28385946e-01 1.23980545e-01 1.13501750e-01 1.01287425e-01]]\n"
     ]
    }
   ],
   "source": [
    "# 预测出来的验证码保存到yy变量中\n",
    "yy = model.predict(X_test[9].reshape(1, 60, 160, 1))\n",
    "print(yy)"
   ]
  },
  {
   "cell_type": "code",
   "execution_count": 32,
   "metadata": {},
   "outputs": [
    {
     "name": "stdout",
     "output_type": "stream",
     "text": [
      "2916\n"
     ]
    }
   ],
   "source": [
    "# 输出yy 可以看到和我们实际的验证码不一致，预测错误\n",
    "print(vec2text(yy))"
   ]
  },
  {
   "cell_type": "markdown",
   "metadata": {},
   "source": [
    "## 保存模型"
   ]
  },
  {
   "cell_type": "code",
   "execution_count": null,
   "metadata": {},
   "outputs": [],
   "source": [
    "if not gfile.Exists(MODEL_DIR):\n",
    "    gfile.MakeDirs(MODEL_DIR)\n",
    "\n",
    "model.save(MODEL_FILE)\n",
    "print('Saved trained model at %s ' % MODEL_FILE)"
   ]
  },
  {
   "cell_type": "markdown",
   "metadata": {},
   "source": [
    "## 保存训练过程记录"
   ]
  },
  {
   "cell_type": "code",
   "execution_count": null,
   "metadata": {},
   "outputs": [],
   "source": [
    "# history,history 就相当于一个字典 history.history['acc']查看key为acc的value 也就是查看我们的精确值\n",
    "history.history['acc']"
   ]
  },
  {
   "cell_type": "code",
   "execution_count": null,
   "metadata": {},
   "outputs": [],
   "source": [
    "# 查看字典里面的元素\n",
    "history.history.keys()"
   ]
  },
  {
   "cell_type": "code",
   "execution_count": null,
   "metadata": {},
   "outputs": [],
   "source": [
    "if gfile.Exists(HISTORY_DIR) == False:\n",
    "    gfile.MakeDirs(HISTORY_DIR)\n",
    "\n",
    "with open(HISTORY_FILE, 'wb') as f:\n",
    "    # 使用 pickle.dump 对字典进行一个序列化，最后保存在f文件中\n",
    "    pickle.dump(history.history, f)"
   ]
  },
  {
   "cell_type": "code",
   "execution_count": null,
   "metadata": {},
   "outputs": [],
   "source": [
    "print(HISTORY_FILE)"
   ]
  },
  {
   "cell_type": "code",
   "execution_count": null,
   "metadata": {},
   "outputs": [],
   "source": []
  }
 ],
 "metadata": {
  "kernelspec": {
   "display_name": "venv1",
   "language": "python",
   "name": "venv1"
  },
  "language_info": {
   "codemirror_mode": {
    "name": "ipython",
    "version": 3
   },
   "file_extension": ".py",
   "mimetype": "text/x-python",
   "name": "python",
   "nbconvert_exporter": "python",
   "pygments_lexer": "ipython3",
   "version": "3.6.4"
  }
 },
 "nbformat": 4,
 "nbformat_minor": 2
}
